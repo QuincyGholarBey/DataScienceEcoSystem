{
 "cells": [
  {
   "cell_type": "markdown",
   "id": "753aae9d-feb0-4854-9001-e495eefbc4bc",
   "metadata": {},
   "source": [
    "# Data Science Tools and Ecosystem"
   ]
  },
  {
   "cell_type": "markdown",
   "id": "4233c8f9-e4e9-445f-8ad9-10466a3df8ad",
   "metadata": {},
   "source": [
    "#### In this notebook, Data Science Tools and Ecosystem are summarized."
   ]
  },
  {
   "cell_type": "markdown",
   "id": "411fd35d-2405-44c3-86ef-53f60cc91811",
   "metadata": {},
   "source": [
    "#### Some of the popular languages that Data Scientist use are:"
   ]
  },
  {
   "cell_type": "markdown",
   "id": "ac4d10de-9dce-4bb3-92fc-a1300e26cadb",
   "metadata": {},
   "source": [
    "   1. Python"
   ]
  },
  {
   "cell_type": "markdown",
   "id": "109a8c5f-3628-4a0a-b6b2-d1033925d239",
   "metadata": {},
   "source": [
    "   2. JavaScript"
   ]
  },
  {
   "cell_type": "markdown",
   "id": "1590ee8d-fc12-4893-8451-9ff627dd4804",
   "metadata": {},
   "source": [
    "   3. R"
   ]
  },
  {
   "cell_type": "markdown",
   "id": "a65ea3f7-1f76-4f5f-8a16-be3e02f46a84",
   "metadata": {},
   "source": [
    "   4. SQL"
   ]
  },
  {
   "cell_type": "markdown",
   "id": "c22684f5-16c5-46f5-b448-0a487d4301a7",
   "metadata": {},
   "source": [
    "#### Some of the commonly used libraries used by Data Scientist include:"
   ]
  },
  {
   "cell_type": "markdown",
   "id": "a2ac10ee-063a-4371-9b69-b3279e43e5b1",
   "metadata": {},
   "source": [
    "   1. TensorFlow"
   ]
  },
  {
   "cell_type": "markdown",
   "id": "e51e2ae3-d820-4283-bad4-8ffa11f3fa4d",
   "metadata": {},
   "source": [
    "   2. NumPy"
   ]
  },
  {
   "cell_type": "markdown",
   "id": "ec610bbd-18d8-4048-8f14-f753f237c97e",
   "metadata": {},
   "source": [
    "   3. SciPy"
   ]
  },
  {
   "cell_type": "markdown",
   "id": "cf081dce-eb4f-4e67-95e3-36d553018e5d",
   "metadata": {},
   "source": [
    "   4. Pandas"
   ]
  },
  {
   "cell_type": "markdown",
   "id": "f2757427-3a24-402e-928f-5bbad0bc27ef",
   "metadata": {},
   "source": [
    "#### | Data Science Tools |"
   ]
  },
  {
   "cell_type": "markdown",
   "id": "8861c639-2b8b-4501-b045-4201908e4416",
   "metadata": {},
   "source": [
    "#### | Juypter Notebook |"
   ]
  },
  {
   "cell_type": "markdown",
   "id": "33e0f7ff-c1a7-40f4-bc64-a38e42c09824",
   "metadata": {},
   "source": [
    "### | Apache Spark |"
   ]
  },
  {
   "cell_type": "markdown",
   "id": "10fea86c-d68f-4153-b83c-b34eee1c3df9",
   "metadata": {},
   "source": [
    "### | Apache Hadoop |"
   ]
  },
  {
   "cell_type": "markdown",
   "id": "2a479b60-782e-4291-bfc6-a3c59f0737e2",
   "metadata": {},
   "source": [
    "### Below are a few examples of evaluating arithmetic expressions in Python."
   ]
  },
  {
   "cell_type": "markdown",
   "id": "5a17d7df-c6f6-4ff6-bb2e-47ede2df5f62",
   "metadata": {},
   "source": [
    "#### This is a simple arithmetic expression to multiply then add integer."
   ]
  },
  {
   "cell_type": "code",
   "execution_count": 28,
   "id": "105314bb-bfc2-49d4-be4f-f1be4e91651a",
   "metadata": {
    "tags": []
   },
   "outputs": [
    {
     "data": {
      "text/plain": [
       "17"
      ]
     },
     "execution_count": 28,
     "metadata": {},
     "output_type": "execute_result"
    }
   ],
   "source": [
    "(3*4)+5"
   ]
  },
  {
   "cell_type": "markdown",
   "id": "8d7bf455-d0e3-4e8a-8f17-5be2b275471e",
   "metadata": {},
   "source": [
    "#### This will convert 200 minutes to hours by dividing by 60."
   ]
  },
  {
   "cell_type": "code",
   "execution_count": 39,
   "id": "49ddc705-c3cf-4c84-b964-e202fcbf9999",
   "metadata": {},
   "outputs": [
    {
     "data": {
      "text/plain": [
       "3.3333333333333335"
      ]
     },
     "execution_count": 39,
     "metadata": {},
     "output_type": "execute_result"
    }
   ],
   "source": [
    "200/60"
   ]
  },
  {
   "cell_type": "markdown",
   "id": "95aeaee4-9268-41e1-8e45-f761e6ce51d0",
   "metadata": {},
   "source": [
    "# **Objectives:**"
   ]
  },
  {
   "cell_type": "markdown",
   "id": "a62816f2-4371-4c4c-b77e-01c3a34f2bd1",
   "metadata": {},
   "source": [
    "   + Julia"
   ]
  },
  {
   "cell_type": "markdown",
   "id": "7b2ba305-d92e-48d5-ba3d-f871b9c52330",
   "metadata": {},
   "source": [
    "   + Scala"
   ]
  },
  {
   "cell_type": "markdown",
   "id": "7ba45e7f-014d-4986-b7ab-e9a90182b258",
   "metadata": {},
   "source": [
    "   + C++"
   ]
  },
  {
   "cell_type": "markdown",
   "id": "a95d66e5-3b5c-4b1e-88d2-63cf05aad014",
   "metadata": {},
   "source": [
    "   + Python"
   ]
  },
  {
   "cell_type": "markdown",
   "id": "4dad641a-2676-407f-85da-d2f741896167",
   "metadata": {},
   "source": [
    "   + SAS"
   ]
  },
  {
   "cell_type": "markdown",
   "id": "f935faa6-beef-4437-aaf3-979f493eaf57",
   "metadata": {},
   "source": [
    "## Author"
   ]
  },
  {
   "cell_type": "markdown",
   "id": "52ca4c3d-9c11-4af2-9cbb-856de2f50bef",
   "metadata": {},
   "source": [
    "#### Quincy Gholar-Bey"
   ]
  },
  {
   "cell_type": "code",
   "execution_count": null,
   "id": "16920064-be00-4763-b381-3a0fc17aa421",
   "metadata": {},
   "outputs": [],
   "source": []
  }
 ],
 "metadata": {
  "kernelspec": {
   "display_name": "anaconda-panel-2023.05-py310",
   "language": "python",
   "name": "conda-env-anaconda-panel-2023.05-py310-py"
  },
  "language_info": {
   "codemirror_mode": {
    "name": "ipython",
    "version": 3
   },
   "file_extension": ".py",
   "mimetype": "text/x-python",
   "name": "python",
   "nbconvert_exporter": "python",
   "pygments_lexer": "ipython3",
   "version": "3.11.5"
  }
 },
 "nbformat": 4,
 "nbformat_minor": 5
}
